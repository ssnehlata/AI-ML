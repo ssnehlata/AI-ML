{
  "metadata": {
    "kernelspec": {
      "name": "python",
      "display_name": "Python (Pyodide)",
      "language": "python"
    },
    "language_info": {
      "codemirror_mode": {
        "name": "python",
        "version": 3
      },
      "file_extension": ".py",
      "mimetype": "text/x-python",
      "name": "python",
      "nbconvert_exporter": "python",
      "pygments_lexer": "ipython3",
      "version": "3.8"
    }
  },
  "nbformat_minor": 5,
  "nbformat": 4,
  "cells": [
    {
      "id": "828524a1",
      "cell_type": "markdown",
      "source": "## Session 3 Assignment:                                                                              \nFormulate both null and alternative hypothesis for each and solve using the techniques used in session 3 (using python).",
      "metadata": {}
    },
    {
      "id": "a90748fc",
      "cell_type": "markdown",
      "source": "## Question 1: \n\nA pharmaceutical company conducts a clinical trial for a new drug and finds that out of 500 patients, 180 show signs of improvement in their condition. Test whether there is a significant difference in the proportion of patients showing improvement compared to the expected response rate of 30%.",
      "metadata": {}
    },
    {
      "id": "0a2ae020",
      "cell_type": "markdown",
      "source": "#### Here are the null and alternative hypotheses for this problem:\n H0: p = 0.3  (The proportion of patients showing improvement is equal to the expected response rate of 30%).\n Ha: p ≠ 0.3 (The proportion of patients showing improvement is not equal to the expected response rate of 30%).",
      "metadata": {}
    },
    {
      "id": "50d1a6df",
      "cell_type": "code",
      "source": "import numpy as np\nfrom scipy import stats\nfrom scipy.stats import norm\nfrom statsmodels.stats.proportion import proportions_ztest",
      "metadata": {},
      "outputs": [],
      "execution_count": 1
    },
    {
      "id": "74c247ff",
      "cell_type": "code",
      "source": "# Defining variables\n\nn = 500  #Total number of patients\nx = 180 # Number of patients showing improvement\np0 = 0.3 #Expected response rate\n\nvalue = p0 * n # expected person to show improvement\n\nz_score, p_value = proportions_ztest(x,n,p0)\n\nprint('30% population: ', value)\nprint('z-score is: {:.3f}'.format(z_score))\nprint('P-value is: {:.3f}'.format(p_value))\n\nalpha = 0.05 # for 95% confidence interval\n\nif p_value < alpha:\n    print(\"Reject the null hypothesis\")\nelse: \n    print(\"Failed to reject the null hypothesis\")\n    ",
      "metadata": {},
      "outputs": [
        {
          "name": "stdout",
          "output_type": "stream",
          "text": [
            "30% population:  150.0\n",
            "z-score is: 2.795\n",
            "P-value is: 0.005\n",
            "Reject the null hypothesis\n"
          ]
        }
      ],
      "execution_count": 2
    },
    {
      "id": "985d033e",
      "cell_type": "markdown",
      "source": "### Answer: \n\nBased on p-value = 0.005, we reject the null hypothesis, Hence, there is significant difference between expected responce rate and patients showed sign of improvement for a new drug. ",
      "metadata": {}
    },
    {
      "id": "a211f0b3",
      "cell_type": "markdown",
      "source": "## Question 2: \n\nA pharmaceutical company is developing a new drug claimed to reduce blood pressure by 10 mmHg. The company selects a sample of patients and administers the drug. After treatment, the mean reduction in blood pressure is found to be 9.2 mmHg with a standard deviation of 2.5 mmHg. Conduct a hypothesis test to determine if there is significant evidence to support the claim that the drug reduces blood pressure by 10 mmHg.\n\nGiven Data: 9.2, 9.5, 8.8, 10.1, 9.6, 8.9, 9.3, 9.7, 9.1, 9.4",
      "metadata": {}
    },
    {
      "id": "946c6b33",
      "cell_type": "code",
      "source": "# Given data\n\nBP_data = np.array([9.2, 9.5, 8.8, 10.1, 9.6, 8.9, 9.3, 9.7, 9.1, 9.4])\nsample_mean = BP_data.mean()\nprint(sample_mean)\n\nhypothesized_mean = 10\n",
      "metadata": {},
      "outputs": [
        {
          "name": "stdout",
          "output_type": "stream",
          "text": [
            "9.36\n"
          ]
        }
      ],
      "execution_count": 3
    },
    {
      "id": "6f385e87",
      "cell_type": "code",
      "source": "population_std_dev = 2.5  # Assume a known population standard deviation\nz_statistic = (sample_mean - hypothesized_mean) / (population_std_dev / np.sqrt(len(BP_data)))\np_value_z = norm.cdf(z_statistic) * 2  # Two-tailed test\nprint('p-value is: {:.3f}'.format(p_value_z))\n\nalpha = 0.05 # for 95% confidence interval\n\nif p_value_z < alpha:\n    print(\"Reject the null hypothesis\")\nelse: \n    print(\"Failed to reject the null hypothesis\")",
      "metadata": {},
      "outputs": [
        {
          "name": "stdout",
          "output_type": "stream",
          "text": [
            "p-value is: 0.418\n",
            "Failed to reject the null hypothesis\n"
          ]
        }
      ],
      "execution_count": 4
    },
    {
      "id": "79b8ca4d",
      "cell_type": "markdown",
      "source": "### Answer:\nBased on p-value = 0.418, we failed to reject the null hypothesis, Hence, there is no significant difference between measured reductio in blood pressure and reported by company. ",
      "metadata": {}
    },
    {
      "id": "260fa98f",
      "cell_type": "markdown",
      "source": "## Question 3: \n\nA biotechnology company is investigating the variability of gene expression levels under two different environmental conditions. They measure the expression levels of a particular gene in 20 samples for each condition and compute the sample variances. Test whether there is a significant difference in the variance of gene expression levels between the two conditions.\n\nGiven data\nCondition 1: 4.5, 5.1, 3.9, 4.8, 4.4, 5.2, 4.7, 4.6, 4.9, 5.0 # Expression levels condition 1\nCondition 2: 3.8, 3.7, 4.0, 3.9, 4.1, 3.6, 4.0, 3.8, 4.2, 3.9 # Expression levels condition 2",
      "metadata": {}
    },
    {
      "id": "8d441d87",
      "cell_type": "markdown",
      "source": "#### Here are the null and alternative hypotheses for this problem:\n H0: There is no significant difference between the variances of gene expression levels under the two conditions.\n H1: There is a significant difference between the variances of gene expression levels under the two conditions.\n We can test this using an F-test in Python:",
      "metadata": {}
    },
    {
      "id": "db783dab",
      "cell_type": "code",
      "source": "# Given Data\ncondition_1 = [4.5, 5.1, 3.9, 4.8, 4.4, 5.2, 4.7, 4.6, 4.9, 5.0]  \ncondition_2 = [3.8, 3.7, 4.0, 3.9, 4.1, 3.6, 4.0, 3.8, 4.2, 3.9]\n\n# Compute variances\nvar_1 = np.var(condition_1)\nvar_2 = np.var(condition_2)\n\n# Perform F-test\nf_stat, p_value_f = stats.f_oneway(condition_1, condition_2)\n\nprint('variance of condition 1: {:.6f}'.format (var_1))\nprint('variance of condition 2: {:.6f}'.format (var_2))\nprint('p-value is: {:.6f}'.format(p_value_f))\n\nalpha = 0.05 # for 95% confidence interval\n\nif p_value_f < alpha:\n    print(\"Reject the null hypothesis\")\nelse: \n    print(\"Failed to reject the null hypothesis\")",
      "metadata": {},
      "outputs": [
        {
          "name": "stdout",
          "output_type": "stream",
          "text": [
            "variance of condition 1: 0.132900\n",
            "variance of condition 2: 0.030000\n",
            "p-value is: 0.000011\n",
            "Reject the null hypothesis\n"
          ]
        }
      ],
      "execution_count": 5
    },
    {
      "id": "5e907eaf",
      "cell_type": "markdown",
      "source": "### Answer:\nBased on p-value = 0.000011, we reject the null hypothesis, Hence, there is significant difference between in variance of condition 1 and condition 2.",
      "metadata": {}
    },
    {
      "id": "8e32171d",
      "cell_type": "markdown",
      "source": "## Question 4: \n\nA life sciences company is comparing two different protocols for cell culture growth rates. One protocol involves a newly formulated growth medium, while the other uses a standard medium. The company takes samples from two groups of cultures and measures the growth rates. Test whether there is a significant difference in the mean growth rates between these two protocols.\n\nGiven data\nGroup 1: 12, 13, 11, 15, 14, 10, 12, 14, 13, 12, 16, 13, 14, 15, 12 # Growth rates group 1\nGroup 2: 10, 11, 10, 12, 11, 9, 12, 11, 10, 10, 13, 11, 12, 13, 11 # Growth rates group 2",
      "metadata": {}
    },
    {
      "id": "cf63de57",
      "cell_type": "code",
      "source": "# Data\ngroup_1 = [12, 13, 11, 15, 14, 10, 12, 14, 13, 12, 16, 13, 14, 15, 12]\ngroup_2 = [10, 11, 10, 12, 11, 9, 12, 11, 10, 10, 13, 11, 12, 13, 11] \n\n# Perform t-test\nt_stat, p_value_ttest = stats.ttest_ind(group_1, group_2)\n\nprint('T-statistic: {:.3f}'.format(t_stat)) \nprint('P-value: {:.3f}'.format(p_value_ttest))\n\nalpha = 0.05 # for 95% confidence interval\n\nif p_value_ttest < alpha:\n    print(\"Reject the null hypothesis\")\nelse: \n    print(\"Failed to reject the null hypothesis\")",
      "metadata": {},
      "outputs": [
        {
          "name": "stdout",
          "output_type": "stream",
          "text": [
            "T-statistic: 3.878\n",
            "P-value: 0.001\n",
            "Reject the null hypothesis\n"
          ]
        }
      ],
      "execution_count": 6
    },
    {
      "id": "b483f33b",
      "cell_type": "markdown",
      "source": "### Answer:\n\na p-value of 0.001 for this two-sample t-test, Hence, we reject the null hypothesis and new growth medium protocol results in a significantly different mean growth rate compared to the standard protocol.",
      "metadata": {}
    }
  ]
}