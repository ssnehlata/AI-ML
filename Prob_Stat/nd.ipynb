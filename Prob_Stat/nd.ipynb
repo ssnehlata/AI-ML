{
 "cells": [
  {
   "cell_type": "markdown",
   "id": "ee2dd7ee-2f5e-4fb6-b9ac-76e2f92048f5",
   "metadata": {},
   "source": [
    "### Generate 100 points from standard normal distribution\n",
    "### get the mean of all points\n",
    "### get the variance of all those points\n",
    "### find median of points\n",
    "### find mode\n",
    "\n"
   ]
  }
 ],
 "metadata": {
  "kernelspec": {
   "display_name": "Python 3 (ipykernel)",
   "language": "python",
   "name": "python3"
  },
  "language_info": {
   "codemirror_mode": {
    "name": "ipython",
    "version": 3
   },
   "file_extension": ".py",
   "mimetype": "text/x-python",
   "name": "python",
   "nbconvert_exporter": "python",
   "pygments_lexer": "ipython3",
   "version": "3.7.8"
  }
 },
 "nbformat": 4,
 "nbformat_minor": 5
}
