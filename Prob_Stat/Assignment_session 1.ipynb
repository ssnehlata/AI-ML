{
  "metadata": {
    "kernelspec": {
      "name": "python",
      "display_name": "Python (Pyodide)",
      "language": "python"
    },
    "language_info": {
      "codemirror_mode": {
        "name": "python",
        "version": 3
      },
      "file_extension": ".py",
      "mimetype": "text/x-python",
      "name": "python",
      "nbconvert_exporter": "python",
      "pygments_lexer": "ipython3",
      "version": "3.8"
    }
  },
  "nbformat_minor": 5,
  "nbformat": 4,
  "cells": [
    {
      "id": "828524a1",
      "cell_type": "markdown",
      "source": "## Session 1 Assignment:                                                                              \nUsing python data types to solve sequence problem ",
      "metadata": {}
    },
    {
      "id": "f65af77e-95b1-46e0-b22d-b10ea869fd31",
      "cell_type": "code",
      "source": "import pandas as pd \nimport warnings\nwarnings.filterwarnings('ignore')",
      "metadata": {
        "trusted": true
      },
      "outputs": [],
      "execution_count": 1
    },
    {
      "id": "a90748fc",
      "cell_type": "markdown",
      "source": "## Question 1: ",
      "metadata": {}
    },
    {
      "id": "a0af643d-b5fd-4c7e-a0d5-2e4286cce328",
      "cell_type": "code",
      "source": "seq1 = \"MADALRFVAWSCCLQLLFLLLGVQGYEVPKAKIDVFYPKGFEVSIPDEEGITLFAFHGKLNEEMEGLEAGTWARDIVKAKNGRWTFRDRITALKPGDTLYYWTYVIYNGLGYREDDGSFVVNGYSGNNASPHPPVVPVSTTPWTPPADPDIDIRLGCTTPKTEVNGAPTRCAGQLVFVDEFNAAKLDPNKWKAERRFSGQPDYEFNVYVDDAPETLCLANGHVVLSTNTMKKQFKKGSGESLDLGEKCTGQANTHDCVRNGRTLNDGLPPMVTAQFSSKDFSFKYGRVEVRAKMPRAQWVTPQIWLQPRRPIYGVDDYRSGQLRIAYTRPNGGNLDLYGAAVLFADEPLRSVKNCLKPGTGNNSEDWSDSFHNYTLEWTPRELRWLVDGKEWCVQGSAKGSFSETTAAGKSLPQAQKLEEGTGLAPFDQEFYLTFGLSVGGFNEYQHEIKPWNERAPQAQKAFWKEVKKIRDHWLDEGHMKIDYVKVYSL\"\n\nseq2 = \"MPGLCIGILLLIGFGCTTAYKIPTPTVELLETGFSVSIPDEEGVKVVAFNVNRNRNFTSFINEGQYNVRLTEPQNGRWTTNFSSVPLRSQDVLYLWTSVQHQKAVYQDLAQPLPVCNLGGEYRPRGCSPGDDDFTDDNQLSTEDSALEPTAPSVCEPSESQVSPQIGVSICKGQLLFEETFDQLNESLWIHDVRLPLDSKDAEFVLYDGKAKVHDGNLVIEPLLWSSYRPDLSIANSRLDLSERCTGTHNRIKECILHSTGSGPSGIMPPIVTPRISTKETFAFQYGRIEIRAKLPKGDWIVPLLLLEPLTEWYGQSGYESGQLRVALARGNSVLRMPRGKLVDGRSLYGGPVLSTDAHQREDLWLSKRKISHFGDDFHTYSLDWSSNRLLFSVDGQVYGEMLNGFTELDENPRWKQGGPMAPFDKMFYISLGVSVGGFGDFVDHLRTATYEKPWANYHPQAKLQFHQAQDQWLPTWKQPALKIDYVRVFATDN\"\n\nseq3 = \"MRWEFLPCLLLLISNNKIFGFKVPSINFEMLKDEGFEVSIPDEPGIQRVFYMFQIDDTCPALMDYITEAVNGSWVSKQKMSLQNNDKLQISMLVQFNEEIFEKSETRVIINTRLLTTKDSSSRGITFLTGEGECQAYLAPAQQAKRCKAAQTIVSNGRHTCQGELIFEDNFSEAQLNKTTWKHDIRQRMYHVEEELVAFDDAARNCFVKEGELHIVPTIATEVTDGSFKLGDRCTAVESPEQECNIAHGIFYSIKPPVFSAQIHTRNSFSFKFGKIVVRAKLPKGDWLFPYLMLQPVSTYAETHYAKQLRIAYARGNANLRTKQGDDISGNHLYGGGVVWHHGNAVQFLKDKISNSHYGDDFHNYTMIWQRDKITLMVDDEVYGELYDGLPFFNEKCFIIFGVTVGGFLNFDDSLLAKDVKPYKNREPRAALSFWQHRDAWAPTWGRHSAMVIDYVRVYAE\"\n\nseq4 = \"MWCIVNLPNGTQQAVKWDPKANGQECLEKVCRAMNIICEMEYFGLEHWTPNQKESQTRQWINLRNRLSGDSGSSGSGIQLMLALRVKFWVPVHFILQESVRNLFYMQARRDLLEGRLTAPDWSGAAKLAALLCQADGLRFNESSLKADCPMRMRRELAQQQQQQQQQAQQHRLEQQRKEKEHVLSFKKRRLSKQKSMEHIEVCTLPAASTTSCSLQPSPSASASASASASASASASTSACSQTHSNSSSSSPSNSSSQTGLDERLASNPLRVYEEYFMQPSCEGEPPADYLRQIAVEHGKLAKLQMSLKTAKYWLLKSIQDLEGYGEELFSGVTTNESATRCDIAVGAHGITVCRGGEKQSIPFGAIAAAKSLRRTFKLEYVDDHNDRKELEIKLPKQPIAAGLYRSITERHAFYVCDKVRGVVTNQFTRDLKGTIASMFMENTELGKRYVFDIQHTCREVHDQARRTLHERGGDLVAEGAEGCSAVAGGLGASAVGEPGVSPWAMALTTGAGGSMAGKIDLAIREKEAREAAIERCVDTRISEAMQCKICMDRAINTVFNPCCHVIACAQCAARCSNCPNCRVKITSVVKIYLPPELRTSQTGSGATTTSSSSIMGDGQVEEQLLQQQLDEISAAPASLEAGADAGVGVGGMAVGAGAGAGATGPGGQPKVTTAAXNWLCSLLFRLMEWVCVPIV\"\n\nseq5 = \"RFVAWSCCLQLLFLLLGVQGYEVPKAKIDVFYPKGFEVSIPDEEGITLFAFHGKLNEEMEGLEAGTWARDIVKAKNGRWTFRDRITALKPGDTLYYWTYVIYNGLGYREDDGSFVVNGYSGNNASPHPPVVPVSTTPWTPPADPDIDIRLGCTTPKTEVNGAPTRCAGQLVFVDEFNAAKLDPNKWKAERRFSGQPDYEFNVYVDDAPETLCLANGHVVLSTNTMKKQFKKGSGESLDLGEKCTGQANTHDCVRNGRTLNDGLPPMVTAQFSSKDFSFKYGRVEVRAKMPRAQWVTPQIWLQPRRPIYGVDDYRSGQLRIAYTRPNGGNLDLYGAAVLFADEPLRSVKNCLKPGTGNNSEDWSDSFHNYTLEWTPRELRWLVDGKEWCVQGSAKGSFSETTAAGKSLPQAQKLEEGTGLAPFDQEFYLTFGLSVGGFNEYQHEIKPWNERAPQAQKAFWKEVKKIRDHWLDEGHMKIDYVKVYSL\"\n\nseq_list=(seq1, seq2, seq3, seq4, seq5) #storing the sequences in a list",
      "metadata": {
        "trusted": true
      },
      "outputs": [],
      "execution_count": 2
    },
    {
      "id": "74c247ff",
      "cell_type": "code",
      "source": "#defining a function to calculate amino acid frequencies\ndef aaf(seq):\n    count = {}\n    aa = [\"A\", \"C\", \"D\", \"E\", \"F\", \"G\", \"H\", \"I\", \"K\", \"L\", \"M\", \"N\", \"P\", \"Q\", \"R\", \"S\", \"T\", \"V\", \"W\", \"Y\"]\n    \n    for i in range(0,20):\n        freq = (seq.count(aa[i]))/(len(seq)) #counting the elements of aa list using count function\n        print(f\"{aa[i]}: {freq:.2%}\")       \n        \n        \nc=1        \nfor i in seq_list:\n    print(\"In sequence \"+str(c)+\" the amino-acid frequency is :\")\n    aaf(i)\n    c=c+1\n    print(\"\\n\")\n    ",
      "metadata": {
        "trusted": true
      },
      "outputs": [
        {
          "name": "stdout",
          "text": "In sequence 1 the amino-acid frequency is :\nA: 6.94%\nC: 1.84%\nD: 6.33%\nE: 6.33%\nF: 4.90%\nG: 8.78%\nH: 1.63%\nI: 2.86%\nK: 6.53%\nL: 8.16%\nM: 1.22%\nN: 4.69%\nP: 6.33%\nQ: 3.67%\nR: 5.10%\nS: 4.90%\nT: 5.92%\nV: 6.73%\nW: 3.06%\nY: 4.08%\n\n\nIn sequence 2 the amino-acid frequency is :\nA: 4.25%\nC: 1.62%\nD: 6.48%\nE: 5.67%\nF: 4.45%\nG: 8.10%\nH: 2.23%\nI: 4.45%\nK: 4.05%\nL: 10.73%\nM: 1.21%\nN: 4.05%\nP: 6.68%\nQ: 4.86%\nR: 5.26%\nS: 7.89%\nT: 5.67%\nV: 6.48%\nW: 2.43%\nY: 3.44%\n\n\nIn sequence 3 the amino-acid frequency is :\nA: 6.51%\nC: 1.95%\nD: 6.07%\nE: 6.51%\nF: 6.51%\nG: 6.29%\nH: 3.04%\nI: 6.51%\nK: 6.07%\nL: 7.38%\nM: 2.39%\nN: 4.99%\nP: 3.69%\nQ: 4.56%\nR: 4.77%\nS: 5.64%\nT: 5.21%\nV: 6.29%\nW: 1.95%\nY: 3.69%\n\n\nIn sequence 4 the amino-acid frequency is :\nA: 10.92%\nC: 3.88%\nD: 3.45%\nE: 6.90%\nF: 2.30%\nG: 7.76%\nH: 2.01%\nI: 4.31%\nK: 4.74%\nL: 8.19%\nM: 2.73%\nN: 3.02%\nP: 3.88%\nQ: 6.47%\nR: 6.18%\nS: 9.20%\nT: 5.17%\nV: 5.60%\nW: 1.44%\nY: 1.72%\n\n\nIn sequence 5 the amino-acid frequency is :\nA: 6.60%\nC: 1.86%\nD: 6.19%\nE: 6.39%\nF: 4.95%\nG: 8.87%\nH: 1.65%\nI: 2.89%\nK: 6.60%\nL: 8.04%\nM: 1.03%\nN: 4.74%\nP: 6.39%\nQ: 3.71%\nR: 5.15%\nS: 4.95%\nT: 5.98%\nV: 6.80%\nW: 3.09%\nY: 4.12%\n\n\n",
          "output_type": "stream"
        }
      ],
      "execution_count": 3
    },
    {
      "id": "a211f0b3",
      "cell_type": "markdown",
      "source": "## Question 2: ",
      "metadata": {}
    },
    {
      "id": "946c6b33",
      "cell_type": "code",
      "source": "# Finding frequency of polar and non-polar amino acids\n\n#Defining polar and non-polar amino acid list\npolar = [\"C\", \"D\", \"E\", \"G\", \"H\", \"K\", \"N\", \"Q\", \"R\", \"S\", \"T\", \"Y\"]\nnonpolar = [\"A\", \"F\", \"I\", \"L\", \"M\", \"P\", \"W\", \"V\"]\n\n\ndef polar_freq(seq):      #to calculate polar frequency\n    pol=0\n    for i in seq:\n        if i in polar:\n            pol = pol+1\n    pf =  round((pol/len(seq)*100),2)  \n    return pf\ndef npolar_freq(seq):      #to calculate non-polar frequency\n    npol=0\n    for i in seq:\n        if i in nonpolar:\n            npol = npol+1\n    npf =  round((npol/len(seq)*100),2)  \n    return npf\n\n\n#declaring empty dataframe\ndf = pd.DataFrame(columns = [\"Sequence\", \"% Polar\", \"% Non-Polar\"])\nc=1\nfor i in seq_list:\n    r = pd.Series([str(c), polar_freq(i), npolar_freq(i)], index=df.columns)\n    c=c+1\n    #df = df.append(r,ignore_index=True) \n    df = pd.concat([df, pd.DataFrame([r])], ignore_index=True)\n    \nprint(df)    \n",
      "metadata": {
        "trusted": true
      },
      "outputs": [
        {
          "name": "stdout",
          "text": "  Sequence  % Polar  % Non-Polar\n0        1    59.80        40.20\n1        2    59.31        40.69\n2        3    58.79        41.21\n3        4    60.49        39.37\n4        5    60.21        39.79\n",
          "output_type": "stream"
        }
      ],
      "execution_count": 4
    },
    {
      "id": "e38267b9-4da7-4a90-94b5-1be3d283663b",
      "cell_type": "markdown",
      "source": "## Question 3: \nFind a. The number of polar and nonpolar patches.\nb. the largest polar and nonpolar patches (contiguous sequence) in each sequence.",
      "metadata": {}
    },
    {
      "id": "db783dab",
      "cell_type": "code",
      "source": "#finding patches\n#defining threshold of patch as 5 minimum\n\n\n#converting polar residues to \"$\" and non-polar to \"#\"\ndef refine(seq):\n    seqa =\"\"\n    for i in seq:\n        if i in polar:\n            seqa = seqa + \"$\"\n        elif i in nonpolar:\n            seqa = seqa + \"#\"\n        else :\n            seqa = seqa + str(i)\n    return(seqa)      \n\n#function finds contiguous repeatative characters having minimum length of 5 and calculate the length\ndef find_patch(seq):\n    l = len(seq)\n    out = []\n    last = seq[0]\n    count = 1\n\n    for i in seq[1:(l+1)]:\n        if i == last:\n            count += 1\n        else:\n            if count >= 5:\n                out.append((last, count))\n            last = i\n            count = 1            \n    if count >= 5:\n        out.append((last, count))\n    return(out)\n\n\n#declaring empty dataframe to contain the polar, non-polar residue patch length of all sequences\ndf_major = pd.DataFrame()\nc=1\nfor i in seq_list:\n    print(\"\\n\\n----------------------------------------------\\nFor sequence \"+str(c)+\" number of patches:\")\n    c=c+1\n    seqe = refine(i)\n    print(seqe)\n    data = find_patch(seqe)\n    \n    df = pd.DataFrame(data, columns = ['Type', 'Length']) \n    df = df.replace(['$'], 'Polar')\n    df = df.replace(['#'], 'Non-Polar')\n    print(df)\n    \n    #to count number of patches\n    df2 = df.pivot_table(index = ['Type'], aggfunc ='size')\n    print(df2)\n    \n    #to calculate largest patch\n    print(\"\\nLength of largest patches :\")\n    dft = df.groupby(['Type'])['Length'].max()\n    print(dft)",
      "metadata": {
        "trusted": true
      },
      "outputs": [
        {
          "name": "stdout",
          "text": "\n\n----------------------------------------------\nFor sequence 1 number of patches:\n##$##$####$$$#$######$#$$$$##$#$#$##$#$$#$#$##$$$$#$####$$$#$$$#$$#$#$$##$$##$#$$$$#$#$$$#$##$#$$$#$$#$$##$$$#$$$$$$$$###$$$$$$$#$#$######$$$##$###$#$#$#$#$$$$#$$$#$$##$$$#$$####$$#$##$#$#$$#$#$$$#$$$#$$$#$#$#$$##$$#$##$$$###$$$$#$$$#$$$$$$$#$#$$$$$$$#$$$$$#$$$$$#$$$#####$#$#$$$$#$#$$$$#$#$#$##$#$##$#$###$#$$##$$#$$$$$$$#$##$$$#$$$$#$#$$######$$##$$#$$$#$#$$$$$$$$#$$$#$$$$#$#$#$$#$###$$$$#$#$$$#$$$#$$$$##$$$##$#$$#$$$$$####$$$#$#$#$#$#$$#$$$$$$#$##$$$##$#$$###$$#$$#$$$##$$$$#$#$$#$#$$#\n         Type  Length\n0   Non-Polar       6\n1       Polar       8\n2       Polar       7\n3   Non-Polar       6\n4       Polar       7\n5       Polar       7\n6       Polar       5\n7       Polar       5\n8   Non-Polar       5\n9       Polar       7\n10  Non-Polar       6\n11      Polar       8\n12      Polar       5\n13      Polar       6\nType\nNon-Polar     4\nPolar        10\ndtype: int64\n\nLength of largest patches :\nType\nNon-Polar    6\nPolar        8\nName: Length, dtype: int64\n\n\n----------------------------------------------\nFor sequence 2 number of patches:\n##$#$#$#####$#$$$$#$$##$#$#$##$$$#$#$##$$$$#$####$#$$$$$#$$##$$$$$$#$#$$#$$$$#$$$#$$###$$$$##$##$$#$$$$##$$$##$####$$#$$$$$#$$$$#$$$$#$$$$$#$$$$$##$#$##$#$$#$$$$#$#$#$#$#$$$$###$$$#$$#$$$###$$#$###$$$$#$###$$$$#$#$$$$###$####$$$$#$#$##$$$#$#$$$$$$$$$$#$$$##$$$$$$#$$######$#$#$$$$$###$$$$#$#$#$##$$$########$##$$#$$$$$$$$$$#$####$$$$##$##$$$##$$$$#$$$###$$$#$$$$$###$$$$#$$#$$$#$$$$#$#$$$$###$#$$$#$$$##$$#$$#$$$#$#$$$$#####$$##$#$#$#$#$$#$$##$$#$$#$$$$###$$$#$#$#$#$$#$$$###$#$$###$#$$#$###$$$\n         Type  Length\n0   Non-Polar       5\n1       Polar       5\n2       Polar       6\n3       Polar       5\n4       Polar       5\n5       Polar       5\n6       Polar      10\n7       Polar       6\n8   Non-Polar       6\n9       Polar       5\n10  Non-Polar       8\n11      Polar      10\n12      Polar       5\n13  Non-Polar       5\nType\nNon-Polar     4\nPolar        10\ndtype: int64\n\nLength of largest patches :\nType\nNon-Polar     8\nPolar        10\nName: Length, dtype: int64\n\n\n----------------------------------------------\nFor sequence 3 number of patches:\n#$#$###$#####$$$$##$#$##$#$#$##$$$$#$#$##$$#$#$$##$##$#$$$$####$$#$$##$$$##$$$$#$#$$$$$#$#$###$#$$$##$$$$$$###$$$##$$$$$$$$$#$##$$$$$$$#$####$$#$$$$##$$##$$$$$$$$$$###$$$#$$#$#$$$$#$$$#$$$#$$#$$$####$$##$$$##$$$$#$###$##$$#$$$$#$#$$$$$##$$#$$$$$##$$##$$#$####$#$#$$$$$#$#$#$$###$#$##$$$####$###$##$$$#$$$$#$$#$##$#$$$#$#$$$$$$$#$$$$#$$$$###$$$$##$##$$$#$$$$$$$$#$$$$###$$$$#$###$$$#$$$#$$$####$$$$####$#$#$$##$#$$$###$$#$#$$$$$#$###$##$$$$####$#$$$$####$$#$#$#$\n         Type  Length\n0   Non-Polar       5\n1       Polar       5\n2       Polar       6\n3       Polar       9\n4       Polar       7\n5       Polar      10\n6       Polar       5\n7       Polar       5\n8       Polar       5\n9       Polar       7\n10      Polar       8\n11      Polar       5\nType\nNon-Polar     1\nPolar        11\ndtype: int64\n\nLength of largest patches :\nType\nNon-Polar     5\nPolar        10\nName: Length, dtype: int64\n\n\n----------------------------------------------\nFor sequence 4 number of patches:\n##$##$##$$$$$##$#$#$#$$$$$#$$#$$##$##$$#$$#$#$$#$#$$$$$$$$$##$#$$$#$$$$$$$$$$#$#####$#$#####$###$$$#$$##$#$#$$$##$$$#$##$#$$##$#####$$#$$#$#$$$$#$#$$##$#$$$##$$$$$$$$$#$$$$#$$$$$$$$$##$#$$$$#$$$$$#$$#$#$$####$$$$$$#$#$#$#$#$#$#$#$#$#$#$$$#$$$$$$$$$$$$#$$$$$$$$#$$$##$$##$#$$$$##$#$$$$$###$$#$$###$$$$##$#$#$#$$#$$###$$#$$#$$$$$$##$$#$$$$$#$$$$###$#$$#$#$$$$$$$$###$#####$$#$$$#$#$$#$$$$$$$$#$#$##$$####$#$$$#$$$$##$#$$$#$$##$$$#$$$#$$$##$###$$$$#$$$$##$#$$$$$$#$$$#$$$#$$$$$$###$$#$$$$###$$#$#$##$$#$#$######$$$#$$$##$$#$###$$$$#$$###$$$#$$$#$$##$$$#$#$$##$$##$#$$$###$#$$##$$$$$#$$$#$#$$##$#$###$#$$$$$$$$#$$$$$$$##$$$$#$$$##$$$#$$#$####$#$#$#$#$#$#$$###$#$#$#$#$$#$$$#$#$$##X$##$$###$##$##$####\n         Type  Length\n0       Polar       5\n1       Polar       5\n2       Polar       9\n3       Polar      10\n4   Non-Polar       5\n5   Non-Polar       5\n6   Non-Polar       5\n7       Polar       9\n8       Polar       9\n9       Polar       5\n10      Polar       6\n11      Polar      12\n12      Polar       8\n13      Polar       5\n14      Polar       6\n15      Polar       5\n16      Polar       8\n17  Non-Polar       5\n18      Polar       8\n19      Polar       6\n20      Polar       6\n21  Non-Polar       6\n22      Polar       5\n23      Polar       8\n24      Polar       7\nType\nNon-Polar     5\nPolar        20\ndtype: int64\n\nLength of largest patches :\nType\nNon-Polar     6\nPolar        12\nName: Length, dtype: int64\n\n\n----------------------------------------------\nFor sequence 5 number of patches:\n$####$$$#$######$#$$$$##$#$#$##$#$$#$#$##$$$$#$####$$$#$$$#$$#$#$$##$$##$#$$$$#$#$$$#$##$#$$$#$$#$$##$$$#$$$$$$$$###$$$$$$$#$#$######$$$##$###$#$#$#$#$$$$#$$$#$$##$$$#$$####$$#$##$#$#$$#$#$$$#$$$#$$$#$#$#$$##$$#$##$$$###$$$$#$$$#$$$$$$$#$#$$$$$$$#$$$$$#$$$$$#$$$#####$#$#$$$$#$#$$$$#$#$#$##$#$##$#$###$#$$##$$#$$$$$$$#$##$$$#$$$$#$#$$######$$##$$#$$$#$#$$$$$$$$#$$$#$$$$#$#$#$$#$###$$$$#$#$$$#$$$#$$$$##$$$##$#$$#$$$$$####$$$#$#$#$#$#$$#$$$$$$#$##$$$##$#$$###$$#$$#$$$##$$$$#$#$$#$#$$#\n         Type  Length\n0   Non-Polar       6\n1       Polar       8\n2       Polar       7\n3   Non-Polar       6\n4       Polar       7\n5       Polar       7\n6       Polar       5\n7       Polar       5\n8   Non-Polar       5\n9       Polar       7\n10  Non-Polar       6\n11      Polar       8\n12      Polar       5\n13      Polar       6\nType\nNon-Polar     4\nPolar        10\ndtype: int64\n\nLength of largest patches :\nType\nNon-Polar    6\nPolar        8\nName: Length, dtype: int64\n",
          "output_type": "stream"
        }
      ],
      "execution_count": 8
    }
  ]
}